{
 "cells": [
  {
   "cell_type": "code",
   "execution_count": null,
   "id": "2e0ee658-f45b-4298-b8bc-f48d765f0abb",
   "metadata": {},
   "outputs": [],
   "source": []
  }
 ],
 "metadata": {
  "kernelspec": {
   "display_name": "",
   "name": ""
  },
  "language_info": {
   "name": ""
  }
 },
 "nbformat": 4,
 "nbformat_minor": 5
}
